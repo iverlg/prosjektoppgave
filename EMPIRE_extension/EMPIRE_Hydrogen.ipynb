{
 "cells": [
  {
   "cell_type": "markdown",
   "metadata": {},
   "source": [
    "### Alter and update EMPIRE Input - Hydrogen.xlsx\n",
    "\n",
    "**NOT USED in current version without hydrogen**\n",
    "\n",
    "*No changes - does not exist for OpenEMPIRE*"
   ]
  },
  {
   "cell_type": "markdown",
   "metadata": {},
   "source": [
    "#### All tabs: the same \n",
    "\n",
    "If we add different hubs except \"Energyhub EU\", we might need to add them to the tabs \"ProductionNodes\" and \"StorageMaxCapacity\""
   ]
  },
  {
   "cell_type": "markdown",
   "metadata": {},
   "source": [
    "### Copy over original file to input-folder"
   ]
  },
  {
   "cell_type": "code",
   "execution_count": 1,
   "metadata": {},
   "outputs": [
    {
     "data": {
      "text/plain": [
       "'EMPIRE_input/Hydrogen.xlsx'"
      ]
     },
     "execution_count": 1,
     "metadata": {},
     "output_type": "execute_result"
    }
   ],
   "source": [
    "import shutil\n",
    "\n",
    "source = \"Data_EMPIRE-Public/Hydrogen.xlsx\"\n",
    "destination = \"EMPIRE_input/Hydrogen.xlsx\"\n",
    "\n",
    "shutil.copy(source, destination)"
   ]
  }
 ],
 "metadata": {
  "kernelspec": {
   "display_name": "empire_env",
   "language": "python",
   "name": "python3"
  },
  "language_info": {
   "codemirror_mode": {
    "name": "ipython",
    "version": 3
   },
   "file_extension": ".py",
   "mimetype": "text/x-python",
   "name": "python",
   "nbconvert_exporter": "python",
   "pygments_lexer": "ipython3",
   "version": "3.12.0"
  }
 },
 "nbformat": 4,
 "nbformat_minor": 2
}
