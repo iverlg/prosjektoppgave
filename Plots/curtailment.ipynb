{
 "cells": [
  {
   "cell_type": "markdown",
   "metadata": {},
   "source": [
    "### Curtailment calculation of wind areas in the NS 2050"
   ]
  },
  {
   "cell_type": "markdown",
   "metadata": {},
   "source": [
    "In this work, curtailment is defined as the unused available power from intermittent renewable sources."
   ]
  },
  {
   "cell_type": "code",
   "execution_count": 1,
   "metadata": {},
   "outputs": [
    {
     "data": {
      "text/plain": [
       "{'base':          Node       RESGeneratorType     Period  \\\n",
       " 0     Austria  Hydrorun-of-the-river  2020-2025   \n",
       " 1     Austria  Hydrorun-of-the-river  2025-2030   \n",
       " 2     Austria  Hydrorun-of-the-river  2030-2035   \n",
       " 3     Austria  Hydrorun-of-the-river  2035-2040   \n",
       " 4     Austria  Hydrorun-of-the-river  2040-2045   \n",
       " ...       ...                    ...        ...   \n",
       " 1555      NO5                  Solar  2035-2040   \n",
       " 1556      NO5                  Solar  2040-2045   \n",
       " 1557      NO5                  Solar  2045-2050   \n",
       " 1558      NO5                  Solar  2050-2055   \n",
       " 1559      NO5                  Solar  2055-2060   \n",
       " \n",
       "       ExpectedAnnualCurtailment_GWh  Expected total available power_GWh  \\\n",
       " 0                          0.001915                        41574.192194   \n",
       " 1                        761.427901                        41919.550312   \n",
       " 2                       8953.261451                        49568.038253   \n",
       " 3                      12036.559937                        53992.786407   \n",
       " 4                      11227.590023                        52705.661893   \n",
       " ...                             ...                                 ...   \n",
       " 1555                       0.003047                            9.953649   \n",
       " 1556                       0.034158                           10.560277   \n",
       " 1557                       0.053590                            5.078689   \n",
       " 1558                       0.003902                            0.015367   \n",
       " 1559                       0.003884                            0.010784   \n",
       " \n",
       "       Expected annual curtailment ratio of total capacity_%  \n",
       " 0                                              0.000005      \n",
       " 1                                              1.816403      \n",
       " 2                                             18.062570      \n",
       " 3                                             22.292904      \n",
       " 4                                             21.302436      \n",
       " ...                                                 ...      \n",
       " 1555                                           0.030615      \n",
       " 1556                                           0.323457      \n",
       " 1557                                           1.055191      \n",
       " 1558                                          25.389430      \n",
       " 1559                                          36.016571      \n",
       " \n",
       " [1560 rows x 6 columns],\n",
       " 'NOgrid':          Node       RESGeneratorType     Period  \\\n",
       " 0     Austria  Hydrorun-of-the-river  2020-2025   \n",
       " 1     Austria  Hydrorun-of-the-river  2025-2030   \n",
       " 2     Austria  Hydrorun-of-the-river  2030-2035   \n",
       " 3     Austria  Hydrorun-of-the-river  2035-2040   \n",
       " 4     Austria  Hydrorun-of-the-river  2040-2045   \n",
       " ...       ...                    ...        ...   \n",
       " 1555      NO5                  Solar  2035-2040   \n",
       " 1556      NO5                  Solar  2040-2045   \n",
       " 1557      NO5                  Solar  2045-2050   \n",
       " 1558      NO5                  Solar  2050-2055   \n",
       " 1559      NO5                  Solar  2055-2060   \n",
       " \n",
       "       ExpectedAnnualCurtailment_GWh  Expected total available power_GWh  \\\n",
       " 0                          0.002101                        41574.192090   \n",
       " 1                        750.511589                        41908.633948   \n",
       " 2                       8940.353302                        49555.130071   \n",
       " 3                      12047.149573                        53992.786921   \n",
       " 4                      11227.589967                        52705.661897   \n",
       " ...                             ...                                 ...   \n",
       " 1555                       0.001624                            9.953655   \n",
       " 1556                       0.005715                           10.560469   \n",
       " 1557                       0.020852                            5.078872   \n",
       " 1558                       0.002631                            0.015151   \n",
       " 1559                       0.002629                            0.010977   \n",
       " \n",
       "       Expected annual curtailment ratio of total capacity_%  \n",
       " 0                                              0.000005      \n",
       " 1                                              1.790828      \n",
       " 2                                             18.041227      \n",
       " 3                                             22.312517      \n",
       " 4                                             21.302436      \n",
       " ...                                                 ...      \n",
       " 1555                                           0.016314      \n",
       " 1556                                           0.054112      \n",
       " 1557                                           0.410573      \n",
       " 1558                                          17.367039      \n",
       " 1559                                          23.948634      \n",
       " \n",
       " [1560 rows x 6 columns]}"
      ]
     },
     "execution_count": 1,
     "metadata": {},
     "output_type": "execute_result"
    }
   ],
   "source": [
    "import pandas as pd\n",
    "\n",
    "#CASES = [\"base\", \"cap25\", \"cap50\", \"floatingCap50\", \"cables50\", \"opex50\", \"base_noHydro\", \"cap50_noHydro\"]\n",
    "#CASES = [\"base\", \"cables20\", \"cablesHub20\", \"cap20\", \"cap50\", \"radial\", \"radial_NO\"]\n",
    "CASES = [\"base\", \"NOgrid\"]\n",
    "\n",
    "DF_BY_CASES = dict({})\n",
    "\n",
    "for case in CASES:\n",
    "    #_df = pd.read_csv(f'curtailment/{case}_results_output_curtailed_prod.csv')\n",
    "    _df = pd.read_csv(f'{case}/results_output_curtailed_prod.csv')\n",
    "    DF_BY_CASES[case] = _df\n",
    "\n",
    "DF_BY_CASES"
   ]
  },
  {
   "cell_type": "code",
   "execution_count": 2,
   "metadata": {},
   "outputs": [],
   "source": [
    "WIND_FARM_NODES = [\"Moray Firth\",\"Firth of Forth\",\"Dogger Bank\",\n",
    "                     \"Hornsea\",\"Outer Dowsing\",\"Norfolk\",\"East Anglia\",\n",
    "                     \"Borssele\",\"Hollandsee Kust\",\"Helgoländer Bucht\",\n",
    "                     \"Nordsøen\",'Nordvest A', 'Nordvest C', 'Vestavind A', \n",
    "                     'Sønnavind A', 'Sørvest C', 'Nordvest B', 'Vestavind F', \n",
    "                     'Sørvest E', 'Sørvest A', 'Vestavind B', 'Vestavind C',\n",
    "                     'Vestavind D', 'Sørvest F', 'Sørvest B', 'Nordavind B', \n",
    "                     'Nordavind A', 'Nordavind D', 'Nordavind C', 'Vestavind E', 'Sørvest D']\n",
    "\n",
    "WIND_FARM_NODES = [node.replace(\" \", \"\") for node in WIND_FARM_NODES]\n",
    "\n",
    "def curtailment_of_wind_prod(case, _df):\n",
    "    df_wind_farm_nodes = _df[_df[\"Node\"].isin(WIND_FARM_NODES)]\n",
    "\n",
    "    # Period = 2050 \n",
    "    df_wind_farm_nodes = df_wind_farm_nodes[df_wind_farm_nodes[\"Period\"] == \"2050-2055\"] \n",
    "\n",
    "    # Exclude those with expected production below 1 GWh\n",
    "    df_wind_farm_nodes = df_wind_farm_nodes[df_wind_farm_nodes[\"Expected total available power_GWh\"] > 0].reset_index(drop=True)\n",
    "    \n",
    "    avg_curtailment = df_wind_farm_nodes[\"Expected annual curtailment ratio of total capacity_%\"].mean()\n",
    "    print(f\"Average curtailment for case: {case} = {round(avg_curtailment, 1)}%\")"
   ]
  },
  {
   "cell_type": "code",
   "execution_count": 3,
   "metadata": {},
   "outputs": [
    {
     "name": "stdout",
     "output_type": "stream",
     "text": [
      "Average curtailment for case: base = 26.6%\n",
      "Average curtailment for case: NOgrid = 20.7%\n"
     ]
    }
   ],
   "source": [
    "for case, _df in DF_BY_CASES.items():\n",
    "    curtailment_of_wind_prod(case, _df)"
   ]
  }
 ],
 "metadata": {
  "kernelspec": {
   "display_name": "empire_env",
   "language": "python",
   "name": "python3"
  },
  "language_info": {
   "codemirror_mode": {
    "name": "ipython",
    "version": 3
   },
   "file_extension": ".py",
   "mimetype": "text/x-python",
   "name": "python",
   "nbconvert_exporter": "python",
   "pygments_lexer": "ipython3",
   "version": "3.12.0"
  }
 },
 "nbformat": 4,
 "nbformat_minor": 2
}
